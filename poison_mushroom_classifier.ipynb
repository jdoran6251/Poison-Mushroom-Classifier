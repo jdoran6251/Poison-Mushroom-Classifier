{
 "cells": [
  {
   "cell_type": "markdown",
   "metadata": {},
   "source": [
    "# Poison Mushroom Random Forest Classifier\n",
    "\n",
    "## Overview\n",
    "\n",
    "In this project I implement a random forest classifier on a well-formatted open source dataset. Each entry contains categorical variables about a particular mushroom and a class label marking it as poisonous (label value of 1) or edible (label value of -1). The dataset can be downloaded from [this link](https://www.openml.org/d/24) which contains a summary of the feature space.\n",
    "   \n",
    "In the first part I implement the hyperparameter search and model selection. Model selection involves choosing the tree depth and whether or not to use AdaBoost during training. AdaBoost is an iterative algorithm that determines weights for training points that minimizes training error over an exponential loss function (see subsection below for details). The hyperparameters of this classifier are number of folds in cross validation, ensemble size, feature set random sample size, training set bootstrap sample size and in the case of boosted models, number of boosting iterations. To save computing time, I train boosted models on a subset of the hyperparamaters chosen based on nominal model performance. I conclude the section by analyzing the relationship between validation error and hyperparameters / model choice to determine which models and hyperparameters to use on the test set. In the second part I analyze the performance of a medium-depth nominal and boosted model on the test set to infer classifier performance on the greater mushroom population.\n",
    "\n",
    "In both sections, a random forest is represented as a list of decision trees and each decision tree is trained on a simple random sample of features from a bootstrap sample of the training set. Predictions are obtained by averaging the prediction of every decision tree on the validation / test set and comparing the averaged prediction to a passed in classification threshold which takes a value in the range [-1, 1] (0 by default).\n",
    "\n",
    "#### AdaBoost Overview\n",
    "\n",
    "Below is the pseudocode of the AdaBoost algorithm on a dataset $\\{(x_{i}, y_{i})\\}^{n}_{i = 1}$ where $x_{i}$ in $R^{d}$ and $y_{i}$ in $\\{-1, 1\\}$.\n",
    "\n",
    "1) Initialize $w_{i} = \\frac{1}{n}$ (nominal weights) for all n training points.\n",
    "\n",
    "2) For $m$ in $\\{1, 2, ..., M\\}$: <br> **a)** Train a classifier $F_{m}$ according to weights $\\{w_{i}\\}^{n}_{i=1}$\n",
    "    <br> **b)** Compute weighted error $e_{m} = \\sum_{misclassified-training-points} w_{i}$\n",
    "    <br> **c)** Reweigh training points as: $w_{i} = w_{i}\\cdot\\begin{cases} \n",
    "                                                            \\sqrt{\\frac{1-e_{m}}{e_{m}}} & if misclassified\\\\\n",
    "                                                            \\sqrt{\\frac{e_{m}}{1-e_{m}}} & otherwise\n",
    "                                                            \\end{cases}$\n",
    "    <br> **d)** Normalize weights to sum to 1"
   ]
  },
  {
   "cell_type": "code",
   "execution_count": 1,
   "metadata": {
    "collapsed": false
   },
   "outputs": [
    {
     "name": "stdout",
     "output_type": "stream",
     "text": [
      "Dataset size:  8124\n",
      "Number of features:  22\n"
     ]
    },
    {
     "data": {
      "text/html": [
       "<div>\n",
       "<table border=\"1\" class=\"dataframe\">\n",
       "  <thead>\n",
       "    <tr style=\"text-align: right;\">\n",
       "      <th></th>\n",
       "      <th>cap-shape</th>\n",
       "      <th>cap-surface</th>\n",
       "      <th>cap-color</th>\n",
       "      <th>bruises</th>\n",
       "      <th>odor</th>\n",
       "      <th>gill-attachment</th>\n",
       "      <th>gill-spacing</th>\n",
       "      <th>gill-size</th>\n",
       "      <th>gill-color</th>\n",
       "      <th>stalk-shape</th>\n",
       "      <th>...</th>\n",
       "      <th>stalk-color-above-ring</th>\n",
       "      <th>stalk-color-below-ring</th>\n",
       "      <th>veil-type</th>\n",
       "      <th>veil-color</th>\n",
       "      <th>ring-number</th>\n",
       "      <th>ring-type</th>\n",
       "      <th>spore-print-color</th>\n",
       "      <th>population</th>\n",
       "      <th>habitat</th>\n",
       "      <th>class</th>\n",
       "    </tr>\n",
       "  </thead>\n",
       "  <tbody>\n",
       "    <tr>\n",
       "      <th>0</th>\n",
       "      <td>'x'</td>\n",
       "      <td>'s'</td>\n",
       "      <td>'n'</td>\n",
       "      <td>'t'</td>\n",
       "      <td>'p'</td>\n",
       "      <td>'f'</td>\n",
       "      <td>'c'</td>\n",
       "      <td>'n'</td>\n",
       "      <td>'k'</td>\n",
       "      <td>'e'</td>\n",
       "      <td>...</td>\n",
       "      <td>'w'</td>\n",
       "      <td>'w'</td>\n",
       "      <td>'p'</td>\n",
       "      <td>'w'</td>\n",
       "      <td>'o'</td>\n",
       "      <td>'p'</td>\n",
       "      <td>'k'</td>\n",
       "      <td>'s'</td>\n",
       "      <td>'u'</td>\n",
       "      <td>1</td>\n",
       "    </tr>\n",
       "    <tr>\n",
       "      <th>1</th>\n",
       "      <td>'x'</td>\n",
       "      <td>'s'</td>\n",
       "      <td>'y'</td>\n",
       "      <td>'t'</td>\n",
       "      <td>'a'</td>\n",
       "      <td>'f'</td>\n",
       "      <td>'c'</td>\n",
       "      <td>'b'</td>\n",
       "      <td>'k'</td>\n",
       "      <td>'e'</td>\n",
       "      <td>...</td>\n",
       "      <td>'w'</td>\n",
       "      <td>'w'</td>\n",
       "      <td>'p'</td>\n",
       "      <td>'w'</td>\n",
       "      <td>'o'</td>\n",
       "      <td>'p'</td>\n",
       "      <td>'n'</td>\n",
       "      <td>'n'</td>\n",
       "      <td>'g'</td>\n",
       "      <td>-1</td>\n",
       "    </tr>\n",
       "    <tr>\n",
       "      <th>2</th>\n",
       "      <td>'b'</td>\n",
       "      <td>'s'</td>\n",
       "      <td>'w'</td>\n",
       "      <td>'t'</td>\n",
       "      <td>'l'</td>\n",
       "      <td>'f'</td>\n",
       "      <td>'c'</td>\n",
       "      <td>'b'</td>\n",
       "      <td>'n'</td>\n",
       "      <td>'e'</td>\n",
       "      <td>...</td>\n",
       "      <td>'w'</td>\n",
       "      <td>'w'</td>\n",
       "      <td>'p'</td>\n",
       "      <td>'w'</td>\n",
       "      <td>'o'</td>\n",
       "      <td>'p'</td>\n",
       "      <td>'n'</td>\n",
       "      <td>'n'</td>\n",
       "      <td>'m'</td>\n",
       "      <td>-1</td>\n",
       "    </tr>\n",
       "    <tr>\n",
       "      <th>3</th>\n",
       "      <td>'x'</td>\n",
       "      <td>'y'</td>\n",
       "      <td>'w'</td>\n",
       "      <td>'t'</td>\n",
       "      <td>'p'</td>\n",
       "      <td>'f'</td>\n",
       "      <td>'c'</td>\n",
       "      <td>'n'</td>\n",
       "      <td>'n'</td>\n",
       "      <td>'e'</td>\n",
       "      <td>...</td>\n",
       "      <td>'w'</td>\n",
       "      <td>'w'</td>\n",
       "      <td>'p'</td>\n",
       "      <td>'w'</td>\n",
       "      <td>'o'</td>\n",
       "      <td>'p'</td>\n",
       "      <td>'k'</td>\n",
       "      <td>'s'</td>\n",
       "      <td>'u'</td>\n",
       "      <td>1</td>\n",
       "    </tr>\n",
       "    <tr>\n",
       "      <th>4</th>\n",
       "      <td>'x'</td>\n",
       "      <td>'s'</td>\n",
       "      <td>'g'</td>\n",
       "      <td>'f'</td>\n",
       "      <td>'n'</td>\n",
       "      <td>'f'</td>\n",
       "      <td>'w'</td>\n",
       "      <td>'b'</td>\n",
       "      <td>'k'</td>\n",
       "      <td>'t'</td>\n",
       "      <td>...</td>\n",
       "      <td>'w'</td>\n",
       "      <td>'w'</td>\n",
       "      <td>'p'</td>\n",
       "      <td>'w'</td>\n",
       "      <td>'o'</td>\n",
       "      <td>'e'</td>\n",
       "      <td>'n'</td>\n",
       "      <td>'a'</td>\n",
       "      <td>'g'</td>\n",
       "      <td>-1</td>\n",
       "    </tr>\n",
       "  </tbody>\n",
       "</table>\n",
       "<p>5 rows × 23 columns</p>\n",
       "</div>"
      ],
      "text/plain": [
       "  cap-shape cap-surface cap-color bruises odor gill-attachment gill-spacing  \\\n",
       "0       'x'         's'       'n'     't'  'p'             'f'          'c'   \n",
       "1       'x'         's'       'y'     't'  'a'             'f'          'c'   \n",
       "2       'b'         's'       'w'     't'  'l'             'f'          'c'   \n",
       "3       'x'         'y'       'w'     't'  'p'             'f'          'c'   \n",
       "4       'x'         's'       'g'     'f'  'n'             'f'          'w'   \n",
       "\n",
       "  gill-size gill-color stalk-shape  ...  stalk-color-above-ring  \\\n",
       "0       'n'        'k'         'e'  ...                     'w'   \n",
       "1       'b'        'k'         'e'  ...                     'w'   \n",
       "2       'b'        'n'         'e'  ...                     'w'   \n",
       "3       'n'        'n'         'e'  ...                     'w'   \n",
       "4       'b'        'k'         't'  ...                     'w'   \n",
       "\n",
       "  stalk-color-below-ring veil-type veil-color ring-number ring-type  \\\n",
       "0                    'w'       'p'        'w'         'o'       'p'   \n",
       "1                    'w'       'p'        'w'         'o'       'p'   \n",
       "2                    'w'       'p'        'w'         'o'       'p'   \n",
       "3                    'w'       'p'        'w'         'o'       'p'   \n",
       "4                    'w'       'p'        'w'         'o'       'e'   \n",
       "\n",
       "  spore-print-color population habitat class  \n",
       "0               'k'        's'     'u'     1  \n",
       "1               'n'        'n'     'g'    -1  \n",
       "2               'n'        'n'     'm'    -1  \n",
       "3               'k'        's'     'u'     1  \n",
       "4               'n'        'a'     'g'    -1  \n",
       "\n",
       "[5 rows x 23 columns]"
      ]
     },
     "execution_count": 1,
     "metadata": {},
     "output_type": "execute_result"
    }
   ],
   "source": [
    "import numpy as np\n",
    "import pandas as pd\n",
    "import matplotlib.pyplot as plt\n",
    "from sklearn.model_selection import train_test_split\n",
    "from sklearn.tree import DecisionTreeClassifier\n",
    "\n",
    "# Read and clean data, transform class labels and obtain schema\n",
    "mushroom_set = pd.read_csv('dataset_mushroom.csv')\n",
    "mushroom_set.rename(columns = {'bruises%3F': 'bruises'}, inplace = True)\n",
    "mushroom_set['class'] = mushroom_set['class'].map({\"'p'\": 1, \"'e'\": -1})\n",
    "features = list(mushroom_set.columns)[0:22]\n",
    "n, d = len(mushroom_set), len(features)\n",
    "print('Dataset size: ', n)\n",
    "print('Number of features: ', d)\n",
    "mushroom_set.head()"
   ]
  },
  {
   "cell_type": "code",
   "execution_count": 2,
   "metadata": {
    "collapsed": true
   },
   "outputs": [],
   "source": [
    "# Obtain numerical training and test set from categorical dataset\n",
    "X_train, X_test, Y_train, Y_test = train_test_split(pd.get_dummies(mushroom_set[features]), mushroom_set['class'], test_size = 0.1, random_state = 42)"
   ]
  },
  {
   "cell_type": "code",
   "execution_count": 3,
   "metadata": {
    "collapsed": true
   },
   "outputs": [],
   "source": [
    "def make_and_train_decision_tree(training_set, labels, depth, train_weights = None):\n",
    "    # Returns decision tree trained according to greedy mutual information maximization \n",
    "    # over possible (feature,value)-split pairs in that set. I use min_samples_leaf parameter as a means \n",
    "    # of tuning tree depth.\n",
    "    depths = {'shallow': 125, 'medium': 75, 'deep': 25}\n",
    "    tree = DecisionTreeClassifier(criterion='entropy', min_samples_leaf = depths[depth])\n",
    "    tree.fit(training_set, labels, sample_weight = train_weights)\n",
    "    return tree\n",
    "\n",
    "def make_and_train_random_forest(training_set, labels, ens_size, m, k, depth):\n",
    "    # Trains and returns random forest (as list of decision tree classifiers) of length ens_size.\n",
    "    # Training set and feature samples of each random forest (size m & k respectively) are taken\n",
    "    # as bootstrap samples from the passed in training_set.\n",
    "    forest = []\n",
    "    n,d = training_set.shape\n",
    "    for j in range(ens_size):\n",
    "        feat_indx = list(np.random.choice(range(d), size = k, replace = False))\n",
    "        train_indx = list(np.random.choice(range(n), size = m, replace = True))\n",
    "        tree = make_and_train_decision_tree(training_set.iloc[train_indx, feat_indx], labels.iloc[train_indx], depth)\n",
    "        forest.append({'tree': tree, 'feats': feat_indx})\n",
    "    return forest"
   ]
  },
  {
   "cell_type": "code",
   "execution_count": 4,
   "metadata": {
    "collapsed": true
   },
   "outputs": [],
   "source": [
    "def make_and_train_boosted_random_forest(training_set, training_labels, ens_size, m, k, M, depth):\n",
    "    # Same functionality as make_and_train_random_forest except that for each decision tree training points\n",
    "    # are weighed as determined by M iterations of AdaBoost.\n",
    "    forest = []\n",
    "    n,d = training_set.shape\n",
    "    for j in range(ens_size):\n",
    "        feat_indx = list(np.random.choice(range(d), size = k, replace = False))\n",
    "        train_indx = list(np.random.choice(range(n), size = m, replace = True))\n",
    "        \n",
    "        sample_weight = np.array([1/len(train_indx) for q in range(len(train_indx))])\n",
    "        \n",
    "        # Perform M iterations of AdaBoost\n",
    "        for i in range(M):\n",
    "            tree = make_and_train_decision_tree(training_set.iloc[train_indx, feat_indx], training_labels.iloc[train_indx], \n",
    "                                                depth, train_weights = sample_weight)\n",
    "            \n",
    "            predicted_labels = evaluate_decision_tree(tree, training_set.iloc[train_indx, feat_indx])\n",
    "            error_indicators = get_error_indicators(predicted_labels, training_labels.iloc[train_indx])\n",
    "            weighted_error = error_indicators @ sample_weight\n",
    "            adjust_factor = np.sqrt((1-weighted_error)/weighted_error)\n",
    "            \n",
    "            sample_weight = np.array([w*adjust_factor if i == 1 else w/adjust_factor for (w, i) in zip(sample_weight, error_indicators)])\n",
    "            \n",
    "            weight_sum = sum(sample_weight)\n",
    "            sample_weight = np.array([w/weight_sum for w in sample_weight])\n",
    "            \n",
    "        forest.append({'tree': tree, 'feats': feat_indx})\n",
    "\n",
    "    return forest"
   ]
  },
  {
   "cell_type": "code",
   "execution_count": 5,
   "metadata": {
    "collapsed": true
   },
   "outputs": [],
   "source": [
    "def evaluate_decision_tree(decision_tree, validation_set):\n",
    "    # Returns decision_tree prediction for every member of validation_set\n",
    "    return decision_tree.predict(validation_set)\n",
    "\n",
    "def get_error_indicators(prediction, true_labels):\n",
    "    # Returns list of indicators of error in prediction for each element of validation set.\n",
    "    return np.array([0 if x == y else 1 for (x, y) in zip(prediction, true_labels)])\n",
    "\n",
    "def evaluate_random_forest(forest, validation_set, labels, weights = None, threshold = 0):\n",
    "    # Takes in trained random forest and validation set and returns validation error, predicted labels and true labels\n",
    "    # according to given classification threshold. Ensemble prediction is computed by the average of its members predictions \n",
    "    # unless weights are manually passed in.\n",
    "    assert np.abs(threshold) <= 1\n",
    "    \n",
    "    if weights is None:\n",
    "        tree_weights = np.array([1/len(forest) for tree in forest])\n",
    "    else:\n",
    "        tree_weights = weights\n",
    "    \n",
    "    forest_predictions = []\n",
    "    for dic in forest:\n",
    "        predict = evaluate_decision_tree(dic['tree'], validation_set.iloc[:,dic['feats']])\n",
    "        forest_predictions.append(predict)\n",
    "    \n",
    "    prediction = []\n",
    "    for j in range(len(labels)):\n",
    "        predictions_by_tree = np.array([forest_predictions[i][j] for i in range(len(forest_predictions))])\n",
    "        pred_class = np.sign((predictions_by_tree @ tree_weights)-threshold)\n",
    "        if pred_class == 0.0:\n",
    "            prediction.append(1.0)\n",
    "        else:\n",
    "            prediction.append(pred_class)\n",
    "    prediction = np.array(prediction)\n",
    "\n",
    "    indicators = get_error_indicators(prediction, labels)\n",
    "    \n",
    "    return sum(indicators) / len(indicators), pd.DataFrame(np.array([prediction, labels]).T, columns = ['predicted', 'true'])"
   ]
  },
  {
   "cell_type": "markdown",
   "metadata": {},
   "source": [
    "## Hyperparameter Search & Model Selection\n",
    "\n",
    "In this section I find the validation error of all model-hyperparameter configurations. The following hyperparameters comprise the search space: number of folds in cross validation (**f**), ensemble size (**ens_size**), feature sample size (**k**), training set sample size (**m**), and in the case of boosted models, number of boosting iterations (**M**). \n",
    "\n",
    "I analyze the relationship of validation error over different model choices and various functions of hyperparameters in order to select a model and hyperparameters to use on the test set. Further, I compare the robustness (sensitivity of validation error to various hyperparameters) of boosted and nominal models."
   ]
  },
  {
   "cell_type": "code",
   "execution_count": 6,
   "metadata": {
    "collapsed": true
   },
   "outputs": [],
   "source": [
    "def train_and_validate(training_set, training_labels, validation_set, validation_labels, ens_size, m, k, depth, boosting = False, M = None):\n",
    "    # Trains and validates random forest with specified data, ensemble size,training set sample size and feature sample size.\n",
    "    # Returns validation error.\n",
    "    global n, d\n",
    "    assert m <= n\n",
    "    assert k <= d\n",
    "    assert boosting ^ (M is None)\n",
    "    \n",
    "    if boosting:\n",
    "        forest = make_and_train_boosted_random_forest(training_set, training_labels, ens_size, m, k, M, depth)\n",
    "    else:\n",
    "        forest = make_and_train_random_forest(training_set, training_labels, ens_size, m, k, depth)\n",
    "\n",
    "    validation_error, _ = evaluate_random_forest(forest, validation_set, validation_labels)\n",
    "    \n",
    "    \n",
    "    return validation_error"
   ]
  },
  {
   "cell_type": "code",
   "execution_count": 7,
   "metadata": {
    "collapsed": true
   },
   "outputs": [],
   "source": [
    "def cross_validate(data_set, labels, size, k, f, m, depth, boosting = False, M = None):\n",
    "    # Performs f-fold cross validation on data_set for hyperparameters ensemble size (size), feature sample size (k), \n",
    "    # training sample size (m) and if using boosted forests, boosting iterations (M).\n",
    "    # Returns training and validation error.\n",
    "    validation_errors = []\n",
    "    \n",
    "    n = len(data_set)\n",
    "                    \n",
    "    for i in range(f):\n",
    "        v_indx = [j for j in range(i*n//f, (i+1)*n//f)]\n",
    "        t_indx = [j for j in range(0, i*n//f)] + [j for j in range((i+1)*n//f, n)]\n",
    "                        \n",
    "        validation_set = data_set.iloc[v_indx,:]\n",
    "        validation_labels = labels.iloc[v_indx]\n",
    "        training_set = data_set.iloc[t_indx,:]\n",
    "        training_labels = labels.iloc[t_indx]\n",
    "                        \n",
    "        validation_error= train_and_validate(training_set, training_labels, validation_set, \n",
    "                                                            validation_labels, size, m, k, depth, boosting, M)\n",
    "        validation_errors.append(validation_error)\n",
    "                    \n",
    "    avg_validation_error = sum(validation_errors) / len(validation_errors)\n",
    "    \n",
    "    return avg_validation_error"
   ]
  },
  {
   "cell_type": "code",
   "execution_count": 8,
   "metadata": {
    "collapsed": true
   },
   "outputs": [],
   "source": [
    "def tune_hyperparameters(ensemble_sizes, feature_sample_sizes, folds, depth, boosting = False):\n",
    "    # Tunes the following hyperparameters using k-fold\n",
    "    # cross validation with k taking on values in folds: ensemble size\n",
    "    #                                                    feature sample size\n",
    "    #                                                    training set sample size\n",
    "    #\n",
    "    # Returns optimal paramaters and validation error of model under every hyperparameter configuration\n",
    "    global X_train, Y_train, n\n",
    "    \n",
    "    min_err = np.inf\n",
    "    \n",
    "    results = []\n",
    "    \n",
    "    # Cross-validate for every possible hyperparameter configuration\n",
    "    for size in ensemble_sizes:\n",
    "        for k in feature_sample_sizes:\n",
    "            for f in folds:\n",
    "                \n",
    "                # Define training set sample size search space\n",
    "                m_max = n - n//f\n",
    "                training_set_sample_sizes = np.arange(m_max//5, m_max, step = m_max//4)\n",
    "                \n",
    "                for m in training_set_sample_sizes:\n",
    "                    if boosting:\n",
    "                        # Define boosting iteration search space\n",
    "                        iterations = [25, 75, 150]\n",
    "                        for M in iterations:\n",
    "                            # Boosted cross-validation\n",
    "                            avg_validation_error = cross_validate(X_train, Y_train, size, k, f, m, depth, boosting, M)\n",
    "                            result = {'v_err': avg_validation_error, 'ens_size': size, 'k': k,\n",
    "                                            'f': f, 'm': m, 'M': M}\n",
    "                            results.append(result)\n",
    "                    # Nominal cross-validation\n",
    "                    else:\n",
    "                        avg_validation_error = cross_validate(X_train, Y_train, size, k, f, m, depth)\n",
    "                        result = {'v_err': avg_validation_error, 'ens_size': size, 'k': k,\n",
    "                                            'f': f, 'm': m}\n",
    "                        results.append(result)\n",
    "                    \n",
    "                    # Update opt_params if validation error less than previous min_err\n",
    "                    if avg_validation_error < min_err:\n",
    "                        min_err = avg_validation_error\n",
    "                        if boosting:\n",
    "                            opt_params = result\n",
    "                        else:\n",
    "                            opt_params = result\n",
    "    \n",
    "    return pd.DataFrame(results), pd.DataFrame(opt_params, index = [' '])"
   ]
  },
  {
   "cell_type": "code",
   "execution_count": 9,
   "metadata": {
    "collapsed": true
   },
   "outputs": [],
   "source": [
    "# Define hyperparameter search space\n",
    "ens_sizes = [10, 100, 250]\n",
    "feat_sample_sizes = [8, 12, 16, 20]\n",
    "folds = [6, 12]"
   ]
  },
  {
   "cell_type": "code",
   "execution_count": 10,
   "metadata": {
    "collapsed": false
   },
   "outputs": [
    {
     "name": "stdout",
     "output_type": "stream",
     "text": [
      "Nominal shallow tree optimal paramaters: \n"
     ]
    },
    {
     "data": {
      "text/html": [
       "<div>\n",
       "<table border=\"1\" class=\"dataframe\">\n",
       "  <thead>\n",
       "    <tr style=\"text-align: right;\">\n",
       "      <th></th>\n",
       "      <th>ens_size</th>\n",
       "      <th>f</th>\n",
       "      <th>k</th>\n",
       "      <th>m</th>\n",
       "      <th>v_err</th>\n",
       "    </tr>\n",
       "  </thead>\n",
       "  <tbody>\n",
       "    <tr>\n",
       "      <th></th>\n",
       "      <td>250</td>\n",
       "      <td>12</td>\n",
       "      <td>20</td>\n",
       "      <td>7072</td>\n",
       "      <td>0.015592</td>\n",
       "    </tr>\n",
       "  </tbody>\n",
       "</table>\n",
       "</div>"
      ],
      "text/plain": [
       "   ens_size   f   k     m     v_err\n",
       "        250  12  20  7072  0.015592"
      ]
     },
     "execution_count": 10,
     "metadata": {},
     "output_type": "execute_result"
    }
   ],
   "source": [
    "# Perform nominal hyperparameter search on (relatively) shallow trees\n",
    "# WARNING: Takes a long time\n",
    "nom_res_shallow, opt_params = tune_hyperparameters(ens_sizes, feat_sample_sizes, folds, 'shallow')\n",
    "nom_res_shallow.to_csv('nominal_validation_results_shallow.csv')\n",
    "print('Nominal shallow tree optimal paramaters: ')\n",
    "opt_params"
   ]
  },
  {
   "cell_type": "code",
   "execution_count": 11,
   "metadata": {
    "collapsed": false
   },
   "outputs": [
    {
     "name": "stdout",
     "output_type": "stream",
     "text": [
      "Nominal medium tree optimal paramaters: \n"
     ]
    },
    {
     "data": {
      "text/html": [
       "<div>\n",
       "<table border=\"1\" class=\"dataframe\">\n",
       "  <thead>\n",
       "    <tr style=\"text-align: right;\">\n",
       "      <th></th>\n",
       "      <th>ens_size</th>\n",
       "      <th>f</th>\n",
       "      <th>k</th>\n",
       "      <th>m</th>\n",
       "      <th>v_err</th>\n",
       "    </tr>\n",
       "  </thead>\n",
       "  <tbody>\n",
       "    <tr>\n",
       "      <th></th>\n",
       "      <td>250</td>\n",
       "      <td>12</td>\n",
       "      <td>20</td>\n",
       "      <td>7072</td>\n",
       "      <td>0.01231</td>\n",
       "    </tr>\n",
       "  </tbody>\n",
       "</table>\n",
       "</div>"
      ],
      "text/plain": [
       "   ens_size   f   k     m    v_err\n",
       "        250  12  20  7072  0.01231"
      ]
     },
     "execution_count": 11,
     "metadata": {},
     "output_type": "execute_result"
    }
   ],
   "source": [
    "# Perform nominal hyperparameter search on (relatively) medium trees\n",
    "# WARNING: Takes a long time\n",
    "nom_res_medium, opt_params_2 = tune_hyperparameters(ens_sizes, feat_sample_sizes, folds, 'medium')\n",
    "nom_res_medium.to_csv('nomal_validation_results_medium.csv')\n",
    "print('Nominal medium tree optimal paramaters: ')\n",
    "opt_params_2"
   ]
  },
  {
   "cell_type": "code",
   "execution_count": 12,
   "metadata": {
    "collapsed": false
   },
   "outputs": [
    {
     "name": "stdout",
     "output_type": "stream",
     "text": [
      "Nominal deep tree optimal paramaters: \n"
     ]
    },
    {
     "data": {
      "text/html": [
       "<div>\n",
       "<table border=\"1\" class=\"dataframe\">\n",
       "  <thead>\n",
       "    <tr style=\"text-align: right;\">\n",
       "      <th></th>\n",
       "      <th>ens_size</th>\n",
       "      <th>f</th>\n",
       "      <th>k</th>\n",
       "      <th>m</th>\n",
       "      <th>v_err</th>\n",
       "    </tr>\n",
       "  </thead>\n",
       "  <tbody>\n",
       "    <tr>\n",
       "      <th></th>\n",
       "      <td>250</td>\n",
       "      <td>12</td>\n",
       "      <td>20</td>\n",
       "      <td>7072</td>\n",
       "      <td>0.002325</td>\n",
       "    </tr>\n",
       "  </tbody>\n",
       "</table>\n",
       "</div>"
      ],
      "text/plain": [
       "   ens_size   f   k     m     v_err\n",
       "        250  12  20  7072  0.002325"
      ]
     },
     "execution_count": 12,
     "metadata": {},
     "output_type": "execute_result"
    }
   ],
   "source": [
    "# Perform nominal hyperparameter search on (relatively) deep trees\n",
    "# WARNING: Takes a long time\n",
    "nom_res_deep, opt_params3 = tune_hyperparameters(ens_sizes, feat_sample_sizes, folds, 'deep')\n",
    "nom_res_deep.to_csv('nominal_validation_results_deep.csv')\n",
    "print('Nominal deep tree optimal paramaters: ')\n",
    "opt_params3"
   ]
  },
  {
   "cell_type": "code",
   "execution_count": 13,
   "metadata": {
    "collapsed": true
   },
   "outputs": [],
   "source": [
    "# Reduce the hyperparameter choices for boosted models to save time\n",
    "# since we have a better idea of effects of hyperparameters from nominal models.\n",
    "ens_sizes = [100]\n",
    "feat_sample_sizes = [12, 16]\n",
    "folds = [12]"
   ]
  },
  {
   "cell_type": "code",
   "execution_count": 14,
   "metadata": {
    "collapsed": false
   },
   "outputs": [
    {
     "name": "stdout",
     "output_type": "stream",
     "text": [
      "Boosted shallow tree optimal paramaters: \n"
     ]
    },
    {
     "data": {
      "text/html": [
       "<div>\n",
       "<table border=\"1\" class=\"dataframe\">\n",
       "  <thead>\n",
       "    <tr style=\"text-align: right;\">\n",
       "      <th></th>\n",
       "      <th>M</th>\n",
       "      <th>ens_size</th>\n",
       "      <th>f</th>\n",
       "      <th>k</th>\n",
       "      <th>m</th>\n",
       "      <th>v_err</th>\n",
       "    </tr>\n",
       "  </thead>\n",
       "  <tbody>\n",
       "    <tr>\n",
       "      <th></th>\n",
       "      <td>150</td>\n",
       "      <td>100</td>\n",
       "      <td>12</td>\n",
       "      <td>16</td>\n",
       "      <td>7072</td>\n",
       "      <td>0.001231</td>\n",
       "    </tr>\n",
       "  </tbody>\n",
       "</table>\n",
       "</div>"
      ],
      "text/plain": [
       "     M  ens_size   f   k     m     v_err\n",
       "   150       100  12  16  7072  0.001231"
      ]
     },
     "execution_count": 14,
     "metadata": {},
     "output_type": "execute_result"
    }
   ],
   "source": [
    "# Perform boosted hyperparameter search on (relatively) shallow trees\n",
    "# WARNING: Takes a REALLY long time\n",
    "bos_res_shallow, opt_params4 = tune_hyperparameters(ens_sizes, feat_sample_sizes, folds, 'shallow', boosting = True)\n",
    "bos_res_shallow.to_csv('boosted_validation_results_shallow.csv')\n",
    "print('Boosted shallow tree optimal paramaters: ')\n",
    "opt_params4"
   ]
  },
  {
   "cell_type": "code",
   "execution_count": 15,
   "metadata": {
    "collapsed": false
   },
   "outputs": [
    {
     "name": "stdout",
     "output_type": "stream",
     "text": [
      "Boosted medium tree optimal parameters: \n"
     ]
    },
    {
     "data": {
      "text/html": [
       "<div>\n",
       "<table border=\"1\" class=\"dataframe\">\n",
       "  <thead>\n",
       "    <tr style=\"text-align: right;\">\n",
       "      <th></th>\n",
       "      <th>M</th>\n",
       "      <th>ens_size</th>\n",
       "      <th>f</th>\n",
       "      <th>k</th>\n",
       "      <th>m</th>\n",
       "      <th>v_err</th>\n",
       "    </tr>\n",
       "  </thead>\n",
       "  <tbody>\n",
       "    <tr>\n",
       "      <th></th>\n",
       "      <td>150</td>\n",
       "      <td>100</td>\n",
       "      <td>12</td>\n",
       "      <td>16</td>\n",
       "      <td>7072</td>\n",
       "      <td>0.000684</td>\n",
       "    </tr>\n",
       "  </tbody>\n",
       "</table>\n",
       "</div>"
      ],
      "text/plain": [
       "     M  ens_size   f   k     m     v_err\n",
       "   150       100  12  16  7072  0.000684"
      ]
     },
     "execution_count": 15,
     "metadata": {},
     "output_type": "execute_result"
    }
   ],
   "source": [
    "# Perform boosted hyperparameter search on (relatively) medium trees\n",
    "# WARNING: Takes a REALLY REALLY long time\n",
    "bos_res_medium, opt_params5 = tune_hyperparameters(ens_sizes, feat_sample_sizes, folds, 'medium', boosting = True)\n",
    "bos_res_medium.to_csv('boosted_validation_results_medium.csv')\n",
    "print('Boosted medium tree optimal parameters: ')\n",
    "opt_params5"
   ]
  },
  {
   "cell_type": "code",
   "execution_count": 16,
   "metadata": {
    "collapsed": false
   },
   "outputs": [
    {
     "name": "stdout",
     "output_type": "stream",
     "text": [
      "Boosted deep tree optimal parameters: \n"
     ]
    },
    {
     "data": {
      "text/html": [
       "<div>\n",
       "<table border=\"1\" class=\"dataframe\">\n",
       "  <thead>\n",
       "    <tr style=\"text-align: right;\">\n",
       "      <th></th>\n",
       "      <th>M</th>\n",
       "      <th>ens_size</th>\n",
       "      <th>f</th>\n",
       "      <th>k</th>\n",
       "      <th>m</th>\n",
       "      <th>v_err</th>\n",
       "    </tr>\n",
       "  </thead>\n",
       "  <tbody>\n",
       "    <tr>\n",
       "      <th></th>\n",
       "      <td>150</td>\n",
       "      <td>100</td>\n",
       "      <td>12</td>\n",
       "      <td>16</td>\n",
       "      <td>5211</td>\n",
       "      <td>0.0</td>\n",
       "    </tr>\n",
       "  </tbody>\n",
       "</table>\n",
       "</div>"
      ],
      "text/plain": [
       "     M  ens_size   f   k     m  v_err\n",
       "   150       100  12  16  5211    0.0"
      ]
     },
     "execution_count": 16,
     "metadata": {},
     "output_type": "execute_result"
    }
   ],
   "source": [
    "# Perform boosted hyperparameter search on (relatively) deep trees\n",
    "# WARNING: Takes a REALLY REALLY REALLY long time\n",
    "bos_res_deep, opt_params6 = tune_hyperparameters(ens_sizes, feat_sample_sizes, folds, 'deep', boosting = True)\n",
    "bos_res_deep.to_csv('boosted_validation_results_deep.csv')\n",
    "print('Boosted deep tree optimal parameters: ')\n",
    "opt_params6"
   ]
  },
  {
   "cell_type": "code",
   "execution_count": 2,
   "metadata": {
    "collapsed": true
   },
   "outputs": [],
   "source": [
    "def get_avg_sensitivity(err_series):\n",
    "    # Returns average sensitivity of performance (validation error) to particular hyperparameter\n",
    "    err_ser = err_series.sort_index()\n",
    "    indices = err_ser.index\n",
    "    param_range = indices[len(indices)-1] - indices[0]\n",
    "    error_range = max(err_ser) - min(err_ser)\n",
    "    return error_range / param_range"
   ]
  },
  {
   "cell_type": "code",
   "execution_count": 3,
   "metadata": {
    "collapsed": false
   },
   "outputs": [],
   "source": [
    "# Visualizations, analysis, conclusions go here\n",
    "nominal_results_deep = pd.read_csv('nominal_validation_results_deep.csv')\n",
    "nominal_results_medium = pd.read_csv('nominal_validation_results_medium.csv')\n",
    "nominal_results_shallow = pd.read_csv('nominal_validation_results_shallow.csv')\n",
    "boosted_results_deep = pd.read_csv('boosted_validation_results_deep.csv')\n",
    "boosted_results_medium = pd.read_csv('boosted_validation_results_medium.csv')\n",
    "boosted_results_shallow = pd.read_csv('boosted_validation_results_shallow.csv')\n",
    "\n",
    "# Add proportion of training set used by decision trees of each model\n",
    "nominal_results_deep['mf'] = nominal_results_deep['m'] / (n - n//nominal_results_deep['f'])\n",
    "nominal_results_medium['mf'] = nominal_results_medium['m'] / (n - n//nominal_results_medium['f'])\n",
    "nominal_results_shallow['mf'] = nominal_results_shallow['m'] / (n - n//nominal_results_shallow['f'])\n",
    "boosted_results_deep['mf'] = boosted_results_deep['m'] / (n - n//boosted_results_deep['f'])\n",
    "boosted_results_medium['mf'] = boosted_results_medium['m'] / (n - n//boosted_results_medium['f'])\n",
    "boosted_results_shallow['mf'] = boosted_results_shallow['m'] / (n - n//boosted_results_shallow['f'])"
   ]
  },
  {
   "cell_type": "code",
   "execution_count": 4,
   "metadata": {
    "collapsed": true
   },
   "outputs": [],
   "source": [
    "# Get avg. validation error vs. depth\n",
    "nominal_err_vs_depth = [nominal_results_shallow['v_err'].mean(), nominal_results_medium['v_err'].mean(), \n",
    "                        nominal_results_deep['v_err'].mean()]\n",
    "boosted_err_vs_depth = [boosted_results_shallow['v_err'].mean(), boosted_results_medium['v_err'].mean(), \n",
    "                        boosted_results_deep['v_err'].mean()]"
   ]
  },
  {
   "cell_type": "code",
   "execution_count": 5,
   "metadata": {
    "collapsed": false
   },
   "outputs": [
    {
     "data": {
      "image/png": "[encoded data removed]",
      "text/plain": [
       "<matplotlib.figure.Figure at 0x1f5e0a31438>"
      ]
     },
     "metadata": {},
     "output_type": "display_data"
    }
   ],
   "source": [
    "plt.plot(nominal_err_vs_depth, 'bo')\n",
    "plt.plot(boosted_err_vs_depth, 'go')\n",
    "plt.title('(Fig. 1) Avg. Validation Error vs. Depth')\n",
    "plt.axis([-0.1,2.1,0.0,0.09])\n",
    "plt.xticks([0, 1, 2], ['Shallow', 'Medium', 'Deep'])\n",
    "plt.legend(['Nominal', 'Boosted'])\n",
    "plt.show()"
   ]
  },
  {
   "cell_type": "markdown",
   "metadata": {},
   "source": [
    "Above we see that greater decision tree depth improves validation error and that training with AdaBoost consistently reduces validation error. Moreover, the performance improvement over depth appears to be linear and that the linearity is preserved in going from the nominal deep model to the boosted shallow model."
   ]
  },
  {
   "cell_type": "code",
   "execution_count": 6,
   "metadata": {
    "collapsed": false
   },
   "outputs": [],
   "source": [
    "# Get avg. validation error vs. ensemble size\n",
    "nd_vs_size = nominal_results_deep.groupby('ens_size').mean()['v_err']\n",
    "nm_vs_size = nominal_results_medium.groupby('ens_size').mean()['v_err']\n",
    "ns_vs_size = nominal_results_shallow.groupby('ens_size').mean()['v_err']\n",
    "bd_vs_size = boosted_results_deep.groupby('ens_size').mean()['v_err']\n",
    "bm_vs_size = boosted_results_medium.groupby('ens_size').mean()['v_err']\n",
    "bs_vs_size = boosted_results_shallow.groupby('ens_size').mean()['v_err']"
   ]
  },
  {
   "cell_type": "code",
   "execution_count": 7,
   "metadata": {
    "collapsed": false
   },
   "outputs": [
    {
     "data": {
      "image/png": "[encoded data removed]",
      "text/plain": [
       "<matplotlib.figure.Figure at 0x1f5eb55c208>"
      ]
     },
     "metadata": {},
     "output_type": "display_data"
    }
   ],
   "source": [
    "fig = plt.figure()\n",
    "\n",
    "p1 = fig.add_subplot(1,3,1)\n",
    "p1.set_xticks([10, 100, 250])\n",
    "p1.set_xlabel('Deep')\n",
    "p1.axis([0,260,0.035,0.095])\n",
    "p1.plot(nd_vs_size, 'ro')\n",
    "\n",
    "p2 = fig.add_subplot(1,3,2)\n",
    "p2.set_xticks([10, 100, 250])\n",
    "p2.set_xlabel('Medium')\n",
    "p2.axis([0,260,0.035,0.095])\n",
    "p2.plot(nm_vs_size, 'bo')\n",
    "\n",
    "p3 = fig.add_subplot(1,3,3)\n",
    "p3.set_xticks([10, 100, 250])\n",
    "p3.set_xlabel('Shallow')\n",
    "p3.axis([0,260,0.035,0.095])\n",
    "p3.plot(ns_vs_size, 'go')\n",
    "\n",
    "fig.subplots_adjust(hspace = 0.9, wspace = 0.6)\n",
    "fig.suptitle('(Fig. 2) Avg. Validation Error vs. Ensemble Size of Nominal Models')\n",
    "plt.show()"
   ]
  },
  {
   "cell_type": "markdown",
   "metadata": {},
   "source": [
    "Overall there is a decrease in validation error with increase in ensemble size for nominal models. In the shallow model validation error gets worse from 100 to 250 decision trees and in the deep and medium models error doesn't improve significantly. This suggests that there is overfitting past an ensemble size of 100. For this reason all boosted models were trained on 100 decision trees and their performance vs. depth is in Fig. 1. The models used on the test set were also trained on 100 decision trees in order to avoid overfitting."
   ]
  },
  {
   "cell_type": "code",
   "execution_count": 8,
   "metadata": {
    "collapsed": false
   },
   "outputs": [],
   "source": [
    "# Get avg. validation error vs. number of boosting iterations\n",
    "bd_vs_M = boosted_results_deep.groupby('M').mean()['v_err']\n",
    "bm_vs_M = boosted_results_medium.groupby('M').mean()['v_err']\n",
    "bs_vs_M = boosted_results_shallow.groupby('M').mean()['v_err']"
   ]
  },
  {
   "cell_type": "code",
   "execution_count": 9,
   "metadata": {
    "collapsed": false,
    "scrolled": true
   },
   "outputs": [
    {
     "data": {
      "image/png": "[encoded data removed]",
      "text/plain": [
       "<matplotlib.figure.Figure at 0x1f5eb51fc50>"
      ]
     },
     "metadata": {},
     "output_type": "display_data"
    }
   ],
   "source": [
    "fig = plt.figure()\n",
    "\n",
    "p1 = fig.add_subplot(1,3,1)\n",
    "p1.set_xticks([25,75,150])\n",
    "p1.set_xlabel('Deep')\n",
    "p1.axis([10,165,0.002,0.032])\n",
    "p1.plot(bd_vs_M, 'ro')\n",
    "\n",
    "p2 = fig.add_subplot(1,3,2)\n",
    "p2.set_xticks([25,75,150])\n",
    "p2.set_xlabel('Medium')\n",
    "p2.axis([10,165,0.002,0.032])\n",
    "p2.plot(bm_vs_M, 'bo')\n",
    "\n",
    "p3 = fig.add_subplot(1,3,3)\n",
    "p3.set_xticks([25,75,150])\n",
    "p3.set_xlabel('Shallow')\n",
    "p3.axis([10,165,0.002,0.032])\n",
    "p3.plot(bs_vs_M, 'go')\n",
    "\n",
    "fig.subplots_adjust(hspace = 0.9, wspace = 0.6)\n",
    "fig.suptitle('(Fig. 3) Avg. Validation Error vs. Boosting Iterations of Boosted Models')\n",
    "plt.show()"
   ]
  },
  {
   "cell_type": "markdown",
   "metadata": {
    "collapsed": true
   },
   "source": [
    "On average, validation error decreases as number of boosting iterations increases. In the medium depth model however, validation error increases on average. Given the consistent performance of the deep and shallow models, this is most likely a statistical anomaly. In order to save computing time without sacrificing boosting improvement, I use 75 iterations for the boosted test set model."
   ]
  },
  {
   "cell_type": "code",
   "execution_count": 10,
   "metadata": {
    "collapsed": true
   },
   "outputs": [],
   "source": [
    "# Get avg. validation error vs. validation folds\n",
    "nd_vs_f = nominal_results_deep.groupby('f').mean()['v_err']\n",
    "nm_vs_f = nominal_results_medium.groupby('f').mean()['v_err']\n",
    "ns_vs_f = nominal_results_shallow.groupby('f').mean()['v_err']"
   ]
  },
  {
   "cell_type": "code",
   "execution_count": 11,
   "metadata": {
    "collapsed": false
   },
   "outputs": [
    {
     "data": {
      "image/png": "[encoded data removed]",
      "text/plain": [
       "<matplotlib.figure.Figure at 0x1f5eb8b80b8>"
      ]
     },
     "metadata": {},
     "output_type": "display_data"
    }
   ],
   "source": [
    "fig = plt.figure()\n",
    "\n",
    "p1 = fig.add_subplot(1,3,1)\n",
    "p1.set_xticks([6, 12])\n",
    "p1.set_xlabel('Deep')\n",
    "p1.axis([5,13,0.04,0.082])\n",
    "p1.plot(nd_vs_f, 'ro')\n",
    "\n",
    "p2 = fig.add_subplot(1,3,2)\n",
    "p2.set_xticks([6, 12])\n",
    "p2.set_xlabel('Medium')\n",
    "p2.axis([5,13,0.04,0.082])\n",
    "p2.plot(nm_vs_f, 'bo')\n",
    "\n",
    "p3 = fig.add_subplot(1,3,3)\n",
    "p3.set_xticks([6, 12])\n",
    "p3.set_xlabel('Shallow')\n",
    "p3.axis([5,13,0.04,0.082])\n",
    "p3.plot(ns_vs_f, 'go')\n",
    "\n",
    "fig.subplots_adjust(hspace = 0.9, wspace = 0.6)\n",
    "fig.suptitle('(Fig. 4) Validation Error vs. Validation Folds of Nominal Models')\n",
    "plt.show()"
   ]
  },
  {
   "cell_type": "markdown",
   "metadata": {},
   "source": [
    "Validation error decreases with more folds used in cross validation simply because of more folds corresponding to larger training sets. Moreover, the variation in validation error with respect to folds is smaller than the other hyperparameters. For this reason I use only 12-fold cross validation in training boosted models to reduce computing time while training slightly stronger models. The boosted models performance vs. depth is in Fig. 1."
   ]
  },
  {
   "cell_type": "code",
   "execution_count": 12,
   "metadata": {
    "collapsed": false
   },
   "outputs": [],
   "source": [
    "# Get avg. validation error vs. proportion of training bootstrap sample size to total training set size\n",
    "nd_vs_fmf = nominal_results_deep.groupby(['f', 'mf']).mean()['v_err'].sortlevel(0, 1)\n",
    "nm_vs_fmf = nominal_results_medium.groupby(['f', 'mf']).mean()['v_err'].sortlevel(0, 1)\n",
    "ns_vs_fmf = nominal_results_shallow.groupby(['f', 'mf']).mean()['v_err'].sortlevel(0, 1)\n",
    "bd_vs_fmf = boosted_results_deep.groupby(['f', 'mf']).mean()['v_err'].sortlevel(0, 1)\n",
    "bm_vs_fmf = boosted_results_medium.groupby(['f', 'mf']).mean()['v_err'].sortlevel(0, 1)\n",
    "bs_vs_fmf = boosted_results_shallow.groupby(['f', 'mf']).mean()['v_err'].sortlevel(0, 1)\n",
    "\n",
    "nd6 = nd_vs_fmf.unstack(level = 0)[6]\n",
    "nd12 = nd_vs_fmf.unstack(level = 0)[12]\n",
    "nm6 = nm_vs_fmf.unstack(level = 0)[6]\n",
    "nm12 = nm_vs_fmf.unstack(level = 0)[12]\n",
    "ns6 = ns_vs_fmf.unstack(level = 0)[6]\n",
    "ns12 = ns_vs_fmf.unstack(level = 0)[12]\n",
    "bd12 = bd_vs_fmf.unstack(level = 0)[12]\n",
    "bm12 = bm_vs_fmf.unstack(level = 0)[12]\n",
    "bs12 = bs_vs_fmf.unstack(level = 0)[12]\n",
    "\n",
    "nd6.dropna(inplace = True)\n",
    "nd12.dropna(inplace = True)\n",
    "nm6.dropna(inplace = True)\n",
    "nm12.dropna(inplace = True)\n",
    "ns6.dropna(inplace = True)\n",
    "ns12.dropna(inplace = True)\n",
    "bd12.dropna(inplace = True)\n",
    "bm12.dropna(inplace = True)\n",
    "bs12.dropna(inplace = True)"
   ]
  },
  {
   "cell_type": "code",
   "execution_count": 13,
   "metadata": {
    "collapsed": false
   },
   "outputs": [
    {
     "data": {
      "image/png": "[encoded data removed]",
      "text/plain": [
       "<matplotlib.figure.Figure at 0x1f5eb9c7e10>"
      ]
     },
     "metadata": {},
     "output_type": "display_data"
    }
   ],
   "source": [
    "fig = plt.figure()\n",
    "\n",
    "p1 = fig.add_subplot(3,3,1)\n",
    "p1.set_xticks([0.1, 0.3, 0.5, 0.7, 0.9])\n",
    "p1.set_xlabel('Nominal Deep 6-Fold')\n",
    "p1.axis([0.1,1.0,0.02,0.12])\n",
    "p1.plot(nd6, 'ro')\n",
    "\n",
    "p2 = fig.add_subplot(3,3,2)\n",
    "p2.set_xticks([0.1, 0.3, 0.5, 0.7, 0.9])\n",
    "p2.set_xlabel('Nominal Medium 6-Fold')\n",
    "p2.axis([0.1,1.0,0.02,0.12])\n",
    "p2.plot(nm6, 'bo')\n",
    "\n",
    "p3 = fig.add_subplot(3,3,3)\n",
    "p3.set_xticks([0.1, 0.3, 0.5, 0.7, 0.9])\n",
    "p3.set_xlabel('Nominal Shallow 6-Fold')\n",
    "p3.axis([0.1,1.0,0.02,0.12])\n",
    "p3.plot(ns6, 'go')\n",
    "\n",
    "p4 = fig.add_subplot(3,3,4)\n",
    "p4.set_xticks([0.1, 0.3, 0.5, 0.7, 0.9])\n",
    "p4.set_xlabel('Nominal Deep 12-Fold')\n",
    "p4.axis([0.1,1.0,0.02,0.12])\n",
    "p4.plot(nd12, 'ro')\n",
    "\n",
    "p5 = fig.add_subplot(3,3,5)\n",
    "p5.set_xticks([0.1, 0.3, 0.5, 0.7, 0.9])\n",
    "p5.set_xlabel('Nominal Medium 12-Fold')\n",
    "p5.axis([0.1,1.0,0.02,0.12])\n",
    "p5.plot(nm12, 'bo')\n",
    "\n",
    "p6 = fig.add_subplot(3,3,6)\n",
    "p6.set_xticks([0.1, 0.3, 0.5, 0.7, 0.9])\n",
    "p6.set_xlabel('Nominal Shallow 12-Fold')\n",
    "p6.axis([0.1,1.0,0.02,0.12])\n",
    "p6.plot(ns12, 'go')\n",
    "\n",
    "p7 = fig.add_subplot(3,3,7)\n",
    "p7.set_xticks([0.1, 0.3, 0.5, 0.7, 0.9])\n",
    "p7.set_yticks([0.01, 0.03, 0.05, 0.07, 0.09])\n",
    "p7.set_xlabel('Boosted Deep')\n",
    "p7.axis([0.1,1.0,0,0.09])\n",
    "p7.plot(bd12, 'ro')\n",
    "\n",
    "p8 = fig.add_subplot(3,3,8)\n",
    "p8.set_xticks([0.1, 0.3, 0.5, 0.7, 0.9])\n",
    "p8.set_yticks([0.01, 0.03, 0.05, 0.07, 0.09])\n",
    "p8.set_xlabel('Boosted Medium')\n",
    "p8.axis([0.1,1.0,0,0.09])\n",
    "p8.plot(bm12, 'bo')\n",
    "\n",
    "p9 = fig.add_subplot(3,3,9)\n",
    "p9.set_xticks([0.1, 0.3, 0.5, 0.7, 0.9])\n",
    "p9.set_yticks([0.01, 0.03, 0.05, 0.07, 0.09])\n",
    "p9.set_xlabel('Boosted Shallow')\n",
    "p9.axis([0.1,1.0,0,0.09])\n",
    "p9.plot(bs12, 'go')\n",
    "\n",
    "fig.subplots_adjust(hspace = 0.8, wspace = 0.6)\n",
    "fig.suptitle('(Fig. 5) Avg. Validation Error vs. Bootstrap Training Sample Size (as ratio of Training Set Size)')\n",
    "plt.show()"
   ]
  },
  {
   "cell_type": "markdown",
   "metadata": {
    "collapsed": true
   },
   "source": [
    "The plots above give a more refined view of how folds and training set sample size affect validation error. Once again, the number of folds used doesn't affect validation error significantly. As I increase the boostrap sample size for the training set, the validation error drops noticeably. The biggest drops occur between samples 20% and 45% the size of the training set. On the test set I take a bootstrap sample 45% the size of the whole training set to take advantage of this performance increase without making training computationally cumbersome."
   ]
  },
  {
   "cell_type": "code",
   "execution_count": 14,
   "metadata": {
    "collapsed": true
   },
   "outputs": [],
   "source": [
    "# Get avg. validation error vs. feature sample size\n",
    "nd_vs_k = nominal_results_deep.groupby('k').mean()['v_err']\n",
    "nm_vs_k = nominal_results_medium.groupby('k').mean()['v_err']\n",
    "ns_vs_k = nominal_results_shallow.groupby('k').mean()['v_err']\n",
    "bd_vs_k = boosted_results_deep.groupby('k').mean()['v_err']\n",
    "bm_vs_k = boosted_results_medium.groupby('k').mean()['v_err']\n",
    "bs_vs_k = boosted_results_shallow.groupby('k').mean()['v_err']"
   ]
  },
  {
   "cell_type": "code",
   "execution_count": 15,
   "metadata": {
    "collapsed": false
   },
   "outputs": [
    {
     "data": {
      "image/png": "[encoded data removed]",
      "text/plain": [
       "<matplotlib.figure.Figure at 0x1f5eb9e2a90>"
      ]
     },
     "metadata": {},
     "output_type": "display_data"
    }
   ],
   "source": [
    "fig = plt.figure()\n",
    "\n",
    "p1 = fig.add_subplot(2,3,1)\n",
    "p1.set_xticks([8, 12, 16, 20])\n",
    "p1.set_xlabel('Nominal Deep')\n",
    "p1.axis([7,21,0,0.11])\n",
    "p1.plot(nd_vs_k, 'ro')\n",
    "\n",
    "p2 = fig.add_subplot(2,3,2)\n",
    "p2.set_xticks([8, 12, 16, 20])\n",
    "p2.set_xlabel('Nominal Medium')\n",
    "p2.axis([7,21,0,0.11])\n",
    "p2.plot(nm_vs_k, 'bo')\n",
    "\n",
    "p3 = fig.add_subplot(2,3,3)\n",
    "p3.set_xticks([8, 12, 16, 20])\n",
    "p3.set_xlabel('Nominal Shallow')\n",
    "p3.axis([7,21,0,0.11])\n",
    "p3.plot(ns_vs_k, 'go')\n",
    "\n",
    "p4 = fig.add_subplot(2,3,4)\n",
    "p4.set_xticks([12, 16])\n",
    "p4.set_xlabel('Boosted Deep')\n",
    "p4.axis([11,17,0,0.04])\n",
    "p4.plot(bd_vs_k, 'ro')\n",
    "\n",
    "p5 = fig.add_subplot(2,3,5)\n",
    "p5.set_xticks([12, 16])\n",
    "p5.set_xlabel('Boosted Medium')\n",
    "p5.axis([11,17,0,0.04])\n",
    "p5.plot(bm_vs_k, 'bo')\n",
    "\n",
    "p6 = fig.add_subplot(2,3,6)\n",
    "p6.set_xticks([12, 16])\n",
    "p6.set_xlabel('Boosted Shallow')\n",
    "p6.axis([11,17,0,0.04])\n",
    "p6.plot(bs_vs_k, 'go')\n",
    "\n",
    "fig.subplots_adjust(hspace = 0.6, wspace = 0.6)\n",
    "fig.suptitle('(Fig. 6) Validation Error vs. Feature Sample Size')\n",
    "plt.show()"
   ]
  },
  {
   "cell_type": "markdown",
   "metadata": {},
   "source": [
    "In all models we see that (unsurprisingly) the more features sampled in training, the lower the validation error. Boosted models outperform nominal to the point of making depth irrelevant. That is, the boosted shallow model still outperforms the nominal deep model. In order to avoid underfitting without sacrificing computational efficiency, models on the test set use a feature sample size of 14."
   ]
  },
  {
   "cell_type": "code",
   "execution_count": 16,
   "metadata": {
    "collapsed": true
   },
   "outputs": [],
   "source": [
    "# Get avg. validation error vs. bootstrap training sample size as a proportion stratified by number of features sampled\n",
    "nd6_vs_mfk = nominal_results_deep[nominal_results_deep['f'] == 6].groupby(['mf', 'k']).mean()['v_err'].sortlevel(0, 1).unstack(level = 1)\n",
    "nm6_vs_mfk = nominal_results_medium[nominal_results_medium['f'] == 6].groupby(['mf', 'k']).mean()['v_err'].sortlevel(0, 1).unstack(level = 1)\n",
    "ns6_vs_mfk = nominal_results_shallow[nominal_results_shallow['f'] == 6].groupby(['mf', 'k']).mean()['v_err'].sortlevel(0, 1).unstack(level = 1)\n",
    "nd12_vs_mfk = nominal_results_deep[nominal_results_deep['f'] == 12].groupby(['mf', 'k']).mean()['v_err'].sortlevel(0, 1).unstack(level = 1)\n",
    "nm12_vs_mfk = nominal_results_medium[nominal_results_medium['f'] == 12].groupby(['mf', 'k']).mean()['v_err'].sortlevel(0, 1).unstack(level = 1)\n",
    "ns12_vs_mfk = nominal_results_shallow[nominal_results_shallow['f'] == 12].groupby(['mf', 'k']).mean()['v_err'].sortlevel(0, 1).unstack(level = 1)\n",
    "bd12_vs_mfk = boosted_results_deep.groupby(['mf', 'k']).mean()['v_err'].sortlevel(0, 1).unstack(level = 1)\n",
    "bm12_vs_mfk = boosted_results_medium.groupby(['mf', 'k']).mean()['v_err'].sortlevel(0, 1).unstack(level = 1)\n",
    "bs12_vs_mfk = boosted_results_shallow.groupby(['mf', 'k']).mean()['v_err'].sortlevel(0, 1).unstack(level = 1)"
   ]
  },
  {
   "cell_type": "code",
   "execution_count": 17,
   "metadata": {
    "collapsed": false
   },
   "outputs": [
    {
     "data": {
      "image/png": "[encoded data removed]",
      "text/plain": [
       "<matplotlib.figure.Figure at 0x1f5eb7e7b38>"
      ]
     },
     "metadata": {},
     "output_type": "display_data"
    }
   ],
   "source": [
    "fig = plt.figure()\n",
    "\n",
    "p1 = fig.add_subplot(3,3,1)\n",
    "p1.set_xticks([0.1, 0.3, 0.5, 0.7, 0.9])\n",
    "p1.set_xlabel('Nominal Deep 6-Fold')\n",
    "p1.axis([0.1,1.0,0,0.12])\n",
    "l1, = p1.plot(nd6_vs_mfk[8])\n",
    "l2, = p1.plot(nd6_vs_mfk[12])\n",
    "l3, = p1.plot(nd6_vs_mfk[16])\n",
    "l4, = p1.plot(nd6_vs_mfk[20])\n",
    "\n",
    "p2 = fig.add_subplot(3,3,2)\n",
    "p2.set_xticks([0.1, 0.3, 0.5, 0.7, 0.9])\n",
    "p2.set_xlabel('Nominal Medium 6-Fold')\n",
    "p2.axis([0.1,1.0,0,0.12])\n",
    "p2.plot(nm6_vs_mfk[8])\n",
    "p2.plot(nm6_vs_mfk[12])\n",
    "p2.plot(nm6_vs_mfk[16])\n",
    "p2.plot(nm6_vs_mfk[20])\n",
    "\n",
    "p3 = fig.add_subplot(3,3,3)\n",
    "p3.set_xticks([0.1, 0.3, 0.5, 0.7, 0.9])\n",
    "p3.set_xlabel('Nominal Shallow 6-Fold')\n",
    "p3.axis([0.1,1.0,0,0.12])\n",
    "p3.plot(ns6_vs_mfk[8])\n",
    "p3.plot(ns6_vs_mfk[12])\n",
    "p3.plot(ns6_vs_mfk[16])\n",
    "p3.plot(ns6_vs_mfk[20])\n",
    "\n",
    "p4 = fig.add_subplot(3,3,4)\n",
    "p4.set_xticks([0.1, 0.3, 0.5, 0.7, 0.9])\n",
    "p4.set_xlabel('Nominal Deep 12-Fold')\n",
    "p4.axis([0.1,1.0,0,0.12])\n",
    "p4.plot(nd12_vs_mfk[8])\n",
    "p4.plot(nd12_vs_mfk[12])\n",
    "p4.plot(nd12_vs_mfk[16])\n",
    "p4.plot(nd12_vs_mfk[20])\n",
    "\n",
    "p5 = fig.add_subplot(3,3,5)\n",
    "p5.set_xticks([0.1, 0.3, 0.5, 0.7, 0.9])\n",
    "p5.set_xlabel('Nominal Medium 12-Fold')\n",
    "p5.axis([0.1,1.0,0,0.12])\n",
    "p5.plot(nm12_vs_mfk[8])\n",
    "p5.plot(nm12_vs_mfk[12])\n",
    "p5.plot(nm12_vs_mfk[16])\n",
    "p5.plot(nm12_vs_mfk[20])\n",
    "\n",
    "p6 = fig.add_subplot(3,3,6)\n",
    "p6.set_xticks([0.1, 0.3, 0.5, 0.7, 0.9])\n",
    "p6.set_xlabel('Nominal Shallow 12-Fold')\n",
    "p6.axis([0.1,1.0,0,0.12])\n",
    "p6.plot(ns12_vs_mfk[8])\n",
    "p6.plot(ns12_vs_mfk[12])\n",
    "p6.plot(ns12_vs_mfk[16])\n",
    "p6.plot(ns12_vs_mfk[20])\n",
    "\n",
    "p7 = fig.add_subplot(3,3,7)\n",
    "p7.set_xticks([0.1, 0.3, 0.5, 0.7, 0.9])\n",
    "p7.set_xlabel('Boosted Deep')\n",
    "p7.axis([0.1,1.0,0,0.12])\n",
    "p7.plot(bd12_vs_mfk[12], 'g')\n",
    "p7.plot(bd12_vs_mfk[16], 'r')\n",
    "\n",
    "p8 = fig.add_subplot(3,3,8)\n",
    "p8.set_xticks([0.1, 0.3, 0.5, 0.7, 0.9])\n",
    "p8.set_xlabel('Boosted Medium')\n",
    "p8.axis([0.1,1.0,0,0.12])\n",
    "p8.plot(bm12_vs_mfk[12], 'g')\n",
    "p8.plot(bm12_vs_mfk[16], 'r')\n",
    "\n",
    "p9 = fig.add_subplot(3,3,9)\n",
    "p9.set_xticks([0.1, 0.3, 0.5, 0.7, 0.9])\n",
    "p9.set_xlabel('Boosted Shallow')\n",
    "p9.axis([0.1,1.0,0,0.12])\n",
    "p9.plot(bs12_vs_mfk[12], 'g')\n",
    "p9.plot(bs12_vs_mfk[16], 'r')\n",
    "\n",
    "fig.legend(handles = [l1, l2, l3, l4], labels = [8, 12, 16, 20], loc = 'center right', title = 'k')\n",
    "fig.subplots_adjust(hspace = 0.8, wspace = 0.6)\n",
    "fig.suptitle('(Fig. 7) Avg. Validation Error vs. Bootstrap Training Sample Size Stratified by Number of Features Sampled')\n",
    "plt.show()"
   ]
  },
  {
   "cell_type": "markdown",
   "metadata": {},
   "source": [
    "The above figure gives a more detailed view of how increasing the training set sample size improves validation error. Shallower models that sample more features benefit more from increasing the bootstrap sample size. The deeper models and models that sample less features are more robust to training set sample size. Conversely, deeper models that sample less of the training set improve the most from increasing the number of features sampled. Shallower models that sample more of the training set are more robust to feature sample size."
   ]
  },
  {
   "cell_type": "code",
   "execution_count": 18,
   "metadata": {
    "collapsed": false
   },
   "outputs": [
    {
     "name": "stdout",
     "output_type": "stream",
     "text": [
      "Anticipated Nominal Test Error:  0.05450685079006165\n"
     ]
    }
   ],
   "source": [
    "# I estimate the validation error with k = 14 by averaging the validation errors with k = 12, 16\n",
    "n_v_err_12 = nominal_results_medium[(nominal_results_medium['ens_size'] == 100) & (nominal_results_medium['f'] == 12) & \n",
    "                                    (nominal_results_medium['m'] == 3350) & (nominal_results_medium['k'] == 12)]['v_err']\n",
    "n_v_err_16 = nominal_results_medium[(nominal_results_medium['ens_size'] == 100) & (nominal_results_medium['f'] == 12) & \n",
    "                                    (nominal_results_medium['m'] == 3350) & (nominal_results_medium['k'] == 16)]['v_err']\n",
    "nom_v_err = (float(n_v_err_12) + float(n_v_err_16)) / 2\n",
    "print('Anticipated Nominal Test Error: ', nom_v_err)"
   ]
  },
  {
   "cell_type": "code",
   "execution_count": 19,
   "metadata": {
    "collapsed": false
   },
   "outputs": [
    {
     "name": "stdout",
     "output_type": "stream",
     "text": [
      "Anticipated Boosted Test Error:  0.009708426426911448\n"
     ]
    }
   ],
   "source": [
    "# I estimate the validation error with k = 14 by averaging the validation errors with k = 12, 16\n",
    "b_v_err_12 = boosted_results_medium[(boosted_results_medium['M'] == 75) & (boosted_results_medium['m'] == 3350) & \n",
    "                                    (boosted_results_medium['k'] == 12)]['v_err']\n",
    "b_v_err_16 = boosted_results_medium[(boosted_results_medium['M'] == 75) & (boosted_results_medium['m'] == 3350) & \n",
    "                                    (boosted_results_medium['k'] == 16)]['v_err']\n",
    "bos_v_err = (float(b_v_err_12) + float(b_v_err_16)) / 2\n",
    "print('Anticipated Boosted Test Error: ', bos_v_err)"
   ]
  },
  {
   "cell_type": "code",
   "execution_count": 20,
   "metadata": {
    "collapsed": true
   },
   "outputs": [],
   "source": [
    "depths = ['shallow', 'medium', 'deep']"
   ]
  },
  {
   "cell_type": "code",
   "execution_count": 21,
   "metadata": {
    "collapsed": false
   },
   "outputs": [
    {
     "name": "stdout",
     "output_type": "stream",
     "text": [
      "The shallow boosted model's average validation performance is 0.90034 times as sensitive to feature sample size as the shallow nominal model's.\n",
      " \n",
      "The medium boosted model's average validation performance is 0.54486 times as sensitive to feature sample size as the medium nominal model's.\n",
      " \n",
      "The deep boosted model's average validation performance is 0.25332 times as sensitive to feature sample size as the deep nominal model's.\n",
      " \n"
     ]
    }
   ],
   "source": [
    "# Get sensitivity of validation error to feature sample size size for each model\n",
    "nominal_k_sensitivities = [get_avg_sensitivity(ns_vs_k), get_avg_sensitivity(nm_vs_k), get_avg_sensitivity(nd_vs_k)]\n",
    "boosted_k_sensitivities = [get_avg_sensitivity(bs_vs_k), get_avg_sensitivity(bm_vs_k), get_avg_sensitivity(bd_vs_k)]\n",
    "k_sensitivity_ratios = [y/x for x,y in zip(nominal_k_sensitivities, boosted_k_sensitivities)]\n",
    "\n",
    "for i in range(len(k_sensitivity_ratios)):\n",
    "    print('The ' + depths[i] + ' boosted model\\'s average validation performance is ' + str(k_sensitivity_ratios[i])[:7] + \n",
    "          ' times as sensitive to feature sample size as the ' + depths[i] + ' nominal model\\'s.')\n",
    "    print(' ')"
   ]
  },
  {
   "cell_type": "code",
   "execution_count": 22,
   "metadata": {
    "collapsed": false
   },
   "outputs": [
    {
     "name": "stdout",
     "output_type": "stream",
     "text": [
      "The shallow boosted model's 12-fold validation performance is 1.34863 times as sensitive to training bootstrap sample size as the shallow nominal model's.\n",
      " \n",
      "The medium boosted model's 12-fold validation performance is 0.68717 times as sensitive to training bootstrap sample size as the medium nominal model's.\n",
      " \n",
      "The deep boosted model's 12-fold validation performance is 0.27769 times as sensitive to training bootstrap sample size as the deep nominal model's.\n",
      " \n"
     ]
    }
   ],
   "source": [
    "# Get sensitivity of validation error to boostrap training sample size as a proportion\n",
    "nominal_fmf_sensitivities = [get_avg_sensitivity(ns12), get_avg_sensitivity(nm12), get_avg_sensitivity(nd12)]\n",
    "boosted_fmf_sensitivities = [get_avg_sensitivity(bs12), get_avg_sensitivity(bm12), get_avg_sensitivity(bd12)]\n",
    "fmf_sensitivity_ratios = [y/x for x,y in zip(nominal_fmf_sensitivities, boosted_fmf_sensitivities)]\n",
    "\n",
    "for i in range(len(fmf_sensitivity_ratios)):\n",
    "    print('The ' + depths[i] + ' boosted model\\'s 12-fold validation performance is ' + str(fmf_sensitivity_ratios[i])[:7] + \n",
    "          ' times as sensitive to training bootstrap sample size as the ' + depths[i] + ' nominal model\\'s.')\n",
    "    print(' ')"
   ]
  },
  {
   "cell_type": "code",
   "execution_count": 23,
   "metadata": {
    "collapsed": false
   },
   "outputs": [
    {
     "name": "stdout",
     "output_type": "stream",
     "text": [
      "The shallow boosted model's estimated 14-feature sample validation performance is 1.22679 times as sensitive to training bootstrap sample size as the shallow nominal model's.\n",
      " \n",
      "The medium boosted model's estimated 14-feature sample validation performance is 0.54105 times as sensitive to training bootstrap sample size as the medium nominal model's.\n",
      " \n",
      "The deep boosted model's estimated 14-feature sample validation performance is 0.23613 times as sensitive to training bootstrap sample size as the deep nominal model's.\n",
      " \n"
     ]
    }
   ],
   "source": [
    "# Get sensitivity of validation error to boostrap training sample size as a proportion\n",
    "###\n",
    "# The error series used to compute avg. sensitivity here is an average of the validation error vs. bootstrap training sample \n",
    "# size of models using 12 and 16 features sampled at random in order to obtain an estimate of performance of models using 14\n",
    "# features (since that is what is done on the test set). This assumes linearity between error and number of features sampled\n",
    "# which seems reasonable from Fig. 7.\n",
    "ns12_vs_mfk_est = (ns12_vs_mfk[12] + ns12_vs_mfk[16])/2\n",
    "nm12_vs_mfk_est = (nm12_vs_mfk[12] + nm12_vs_mfk[16])/2\n",
    "nd12_vs_mfk_est = (nd12_vs_mfk[12] + nd12_vs_mfk[16])/2\n",
    "bs12_vs_mfk_est = (bs12_vs_mfk[12] + bs12_vs_mfk[16])/2\n",
    "bm12_vs_mfk_est = (bm12_vs_mfk[12] + bm12_vs_mfk[16])/2\n",
    "bd12_vs_mfk_est = (bd12_vs_mfk[12] + bd12_vs_mfk[16])/2\n",
    "\n",
    "nominal_mfk_sensitivities = [get_avg_sensitivity(ns12_vs_mfk_est), get_avg_sensitivity(nm12_vs_mfk_est), get_avg_sensitivity(nd12_vs_mfk_est)]\n",
    "boosted_mfk_sensitivities = [get_avg_sensitivity(bs12_vs_mfk_est), get_avg_sensitivity(bm12_vs_mfk_est), get_avg_sensitivity(bd12_vs_mfk_est)]\n",
    "mfk_sensitivity_ratios = [y/x for x,y in zip(nominal_mfk_sensitivities, boosted_mfk_sensitivities)]\n",
    "\n",
    "for i in range(len(mfk_sensitivity_ratios)):\n",
    "    print('The ' + depths[i] + ' boosted model\\'s estimated 14-feature sample validation performance is ' + str(mfk_sensitivity_ratios[i])[:7] + \n",
    "          ' times as sensitive to training bootstrap sample size as the ' + depths[i] + ' nominal model\\'s.')\n",
    "    print(' ')"
   ]
  },
  {
   "cell_type": "markdown",
   "metadata": {},
   "source": [
    "The calculations above show that as decision tree depth increases, boosted models become far more robust than nominal over a variety of hyperparameters."
   ]
  },
  {
   "cell_type": "markdown",
   "metadata": {},
   "source": [
    "## Generalization & Further Analysis\n",
    "\n",
    "Now that we know which hyperparameters work well for the different models, we compare the test set performance of a nominal medium depth classifier and a medium iteration, medium depth boosted classifier. Each model is trained on 100 decision trees with 14 features selected by a simple random sample and 45% of the training set selected by a bootstrap sample (see the section above for how these hyperparameters were chosen). I analyze the test error, confusion matrix, and reciever-operating-characteristic curve of each model in order to infer the classifier's performance on the entire mushroom population."
   ]
  },
  {
   "cell_type": "code",
   "execution_count": 3,
   "metadata": {
    "collapsed": true
   },
   "outputs": [],
   "source": [
    "def run_model(ens_size, k, m, boosting = False, M = None, thresh = 0):\n",
    "    # Returns test error, predicted labels and true labels of (possibly boosted) random forest of size ens_size and\n",
    "    # feature sample size k, training sample size m and if boosting M iterations.\n",
    "    global X_train, Y_train, X_test, Y_test\n",
    "    \n",
    "    if boosting & (M is None):\n",
    "        M = 75\n",
    "    \n",
    "    if boosting:\n",
    "        forest = make_and_train_boosted_random_forest(X_train, Y_train, ens_size, m, k, M, 'medium')\n",
    "    else:\n",
    "        forest = make_and_train_random_forest(X_train, Y_train, ens_size, m, k, 'medium')\n",
    "        \n",
    "    return evaluate_random_forest(forest, X_test, Y_test, threshold = thresh)\n"
   ]
  },
  {
   "cell_type": "code",
   "execution_count": 4,
   "metadata": {
    "collapsed": true
   },
   "outputs": [],
   "source": [
    "def get_metrics(ens_size, k, m, boost = False):\n",
    "    # Returns precision, recall, and false positive rate of (possibly boosted) classifier with ensemble size\n",
    "    # ens_size, feature sample size k and training sample size m across full range of classification thresholds.\n",
    "    \n",
    "    thresholds = np.arange(-1.0, 1.0, 0.02)\n",
    "    precision = []\n",
    "    recall = []\n",
    "    fpr = []\n",
    "    for thr in thresholds:\n",
    "        _, results = run_model(ens_size, k, m, boosting = boost, thresh = thr)\n",
    "        y_hat, y_true = np.array(results['predicted']), np.array(results['true'])\n",
    "        tru_pos = sum([1 if ((yh == 1) and (y == 1)) else 0 for yh, y in zip(y_hat, y_true)])\n",
    "        fals_pos = sum([1 if ((yh == 1) and (y == -1)) else 0 for yh, y in zip(y_hat, y_true)])\n",
    "        pred_pos = sum([1 if (yh == 1) else 0 for yh in y_hat])\n",
    "        act_pos = sum([1 if (y == 1) else 0 for y in y_true])\n",
    "        \n",
    "        fpr.append(fals_pos/(len(y_true)-act_pos))\n",
    "        # Cases avoid zero-division error (replaces 0/0 with 1)\n",
    "        if pred_pos != 0:\n",
    "            precision.append(tru_pos/pred_pos)\n",
    "        elif pred_pos == 0:\n",
    "            precision.append(1)\n",
    "        if act_pos != 0:\n",
    "            recall.append(tru_pos/act_pos)\n",
    "        elif act_pos == 0:\n",
    "            recall.append(1)\n",
    "    return pd.DataFrame(np.array([thresholds, precision, recall, fpr]).T, columns = ['threshold', 'precision', 'recall', 'fpr'])"
   ]
  },
  {
   "cell_type": "code",
   "execution_count": 5,
   "metadata": {
    "collapsed": false
   },
   "outputs": [
    {
     "name": "stdout",
     "output_type": "stream",
     "text": [
      "Nominal Test Error:  0.07380073800738007\n"
     ]
    }
   ],
   "source": [
    "# Get nominal test (generalization) error and results here\n",
    "test_error, nominal_results = run_model(100, 14, 3350, boosting = False)\n",
    "nominal_results.to_csv('nominal_results.csv')\n",
    "nominal_metrics = get_metrics(100, 14, 3350, boost = False)\n",
    "nominal_metrics.to_csv('metrics_nominal.csv')\n",
    "print('Nominal Test Error: ', test_error)"
   ]
  },
  {
   "cell_type": "code",
   "execution_count": 6,
   "metadata": {
    "collapsed": false
   },
   "outputs": [
    {
     "name": "stdout",
     "output_type": "stream",
     "text": [
      "Boosted Test error:  0.004920049200492005\n"
     ]
    }
   ],
   "source": [
    "# Get boosted test (generalization) error and results here\n",
    "# WARNING: Takes a long time\n",
    "test_error, boosted_results = run_model(100, 14, 3350, boosting = True)\n",
    "boosted_results.to_csv('boosted_results.csv')\n",
    "boosted_metrics = get_metrics(100, 14, 3350, boost = True)\n",
    "boosted_metrics.to_csv('metrics_boosted.csv')\n",
    "print('Boosted Test error: ', test_error)"
   ]
  },
  {
   "cell_type": "code",
   "execution_count": 2,
   "metadata": {
    "collapsed": true
   },
   "outputs": [],
   "source": [
    "def auc(metrics):\n",
    "    # Computes area under ROC-curve of a given classifier\n",
    "    met = metrics.sort_values(by = 'fpr')\n",
    "    fpr = list(met['fpr'])\n",
    "    recall = list(met['recall'])\n",
    "    \n",
    "    auc = 0\n",
    "    for i in range(1,len(metrics)):\n",
    "        auc = auc + (fpr[i] - fpr[i-1])*(recall[i] + recall[i-1])/2\n",
    "    \n",
    "    return auc"
   ]
  },
  {
   "cell_type": "code",
   "execution_count": 3,
   "metadata": {
    "collapsed": false
   },
   "outputs": [],
   "source": [
    "# Visualizations, analysis, conclusions go here\n",
    "\n",
    "boosted_results = pd.read_csv('boosted_results.csv').iloc[:,[1,2]]\n",
    "boosted_metrics = pd.read_csv('metrics_boosted.csv').iloc[:,[1,2,3,4]]\n",
    "nominal_results = pd.read_csv('nominal_results.csv').iloc[:,[1,2]]\n",
    "nominal_metrics = pd.read_csv('metrics_nominal.csv').iloc[:,[1,2,3,4]]"
   ]
  },
  {
   "cell_type": "code",
   "execution_count": 4,
   "metadata": {
    "collapsed": false
   },
   "outputs": [
    {
     "name": "stdout",
     "output_type": "stream",
     "text": [
      "Nominal Confusion Matrix\n"
     ]
    },
    {
     "data": {
      "text/html": [
       "<div>\n",
       "<table border=\"1\" class=\"dataframe\">\n",
       "  <thead>\n",
       "    <tr style=\"text-align: right;\">\n",
       "      <th>true</th>\n",
       "      <th>-1.0</th>\n",
       "      <th>1.0</th>\n",
       "    </tr>\n",
       "    <tr>\n",
       "      <th>predicted</th>\n",
       "      <th></th>\n",
       "      <th></th>\n",
       "    </tr>\n",
       "  </thead>\n",
       "  <tbody>\n",
       "    <tr>\n",
       "      <th>-1.0</th>\n",
       "      <td>433</td>\n",
       "      <td>57</td>\n",
       "    </tr>\n",
       "    <tr>\n",
       "      <th>1.0</th>\n",
       "      <td>0</td>\n",
       "      <td>323</td>\n",
       "    </tr>\n",
       "  </tbody>\n",
       "</table>\n",
       "</div>"
      ],
      "text/plain": [
       "true       -1.0   1.0\n",
       "predicted            \n",
       "-1.0        433    57\n",
       " 1.0          0   323"
      ]
     },
     "execution_count": 4,
     "metadata": {},
     "output_type": "execute_result"
    }
   ],
   "source": [
    "print('Nominal Confusion Matrix')\n",
    "conf_nominal = pd.crosstab(nominal_results['predicted'], nominal_results['true'])\n",
    "conf_nominal"
   ]
  },
  {
   "cell_type": "code",
   "execution_count": 5,
   "metadata": {
    "collapsed": false
   },
   "outputs": [
    {
     "name": "stdout",
     "output_type": "stream",
     "text": [
      "Boosted Confusion Matrix\n"
     ]
    },
    {
     "data": {
      "text/html": [
       "<div>\n",
       "<table border=\"1\" class=\"dataframe\">\n",
       "  <thead>\n",
       "    <tr style=\"text-align: right;\">\n",
       "      <th>true</th>\n",
       "      <th>-1.0</th>\n",
       "      <th>1.0</th>\n",
       "    </tr>\n",
       "    <tr>\n",
       "      <th>predicted</th>\n",
       "      <th></th>\n",
       "      <th></th>\n",
       "    </tr>\n",
       "  </thead>\n",
       "  <tbody>\n",
       "    <tr>\n",
       "      <th>-1.0</th>\n",
       "      <td>433</td>\n",
       "      <td>4</td>\n",
       "    </tr>\n",
       "    <tr>\n",
       "      <th>1.0</th>\n",
       "      <td>0</td>\n",
       "      <td>376</td>\n",
       "    </tr>\n",
       "  </tbody>\n",
       "</table>\n",
       "</div>"
      ],
      "text/plain": [
       "true       -1.0   1.0\n",
       "predicted            \n",
       "-1.0        433     4\n",
       " 1.0          0   376"
      ]
     },
     "execution_count": 5,
     "metadata": {},
     "output_type": "execute_result"
    }
   ],
   "source": [
    "print('Boosted Confusion Matrix')\n",
    "conf_boosted = pd.crosstab(boosted_results['predicted'], boosted_results['true'])\n",
    "conf_boosted"
   ]
  },
  {
   "cell_type": "code",
   "execution_count": 6,
   "metadata": {
    "collapsed": false
   },
   "outputs": [
    {
     "name": "stdout",
     "output_type": "stream",
     "text": [
      "Nominal Recall:  0.85\n",
      "Nominal False Positive Rate:  0.0\n",
      "Nominal Precision:  1.0\n",
      "Nominal False Omission Rate:  0.11632653061224489\n",
      "Nominal Matthew's Correlation Coefficient:  0.8666732077199525\n",
      " \n",
      "Boosted Recall:  0.9894736842105263\n",
      "Boosted False Positive Rate:  0.0\n",
      "Boosted Precision:  1.0\n",
      "Boosted False Omission Rate:  0.009153318077803204\n",
      "Boosted Matthew's Correlation Coefficient:  0.9901599450842938\n"
     ]
    }
   ],
   "source": [
    "tpn = conf_nominal[1.0][1.0]\n",
    "fpn = conf_nominal[-1.0][1.0]\n",
    "tnn = conf_nominal[-1.0][-1.0]\n",
    "fnn = conf_nominal[1.0][-1.0]\n",
    "\n",
    "tpb = conf_boosted[1.0][1.0]\n",
    "fpb = conf_boosted[-1.0][1.0]\n",
    "tnb = conf_boosted[-1.0][-1.0]\n",
    "fnb = conf_boosted[1.0][-1.0]\n",
    "\n",
    "recall_nominal = tpn / (tpn + fnn)\n",
    "fpr_nominal = fpn / (fpn + tnn)\n",
    "precision_nominal = tpn / (tpn + fpn)\n",
    "for_nominal = fnn / (fnn + tnn)\n",
    "f1_nominal = 2*precision_nominal*recall_nominal / (precision_nominal + recall_nominal)\n",
    "mcc_nominal = (tpn*tnn - fpn*fnn)/np.sqrt((tpn+fpn)*(tpn+fnn)*(tnn+fpn)*(tnn+fnn))\n",
    "\n",
    "recall_boosted = tpb / (tpb + fnb)\n",
    "fpr_boosted = fpb / (fpb + tnb)\n",
    "precision_boosted = tpb / (tpb + fpb)\n",
    "for_boosted = fnb / (fnb + tnb)\n",
    "f1_boosted = 2*precision_boosted*recall_boosted / (precision_boosted + recall_boosted)\n",
    "mcc_boosted = (tpb*tnb - fpb*fnb)/np.sqrt((tpb+fpb)*(tpb+fnb)*(tnb+fpb)*(tnb+fnb))\n",
    "\n",
    "print('Nominal Recall: ', recall_nominal)\n",
    "print('Nominal False Positive Rate: ', fpr_nominal)\n",
    "print('Nominal Precision: ', precision_nominal)\n",
    "print('Nominal False Omission Rate: ', for_nominal)\n",
    "print('Nominal Matthew\\'s Correlation Coefficient: ', mcc_nominal)\n",
    "print(' ')\n",
    "print('Boosted Recall: ', recall_boosted)\n",
    "print('Boosted False Positive Rate: ', fpr_boosted)\n",
    "print('Boosted Precision: ', precision_boosted)\n",
    "print('Boosted False Omission Rate: ', for_boosted)\n",
    "print('Boosted Matthew\\'s Correlation Coefficient: ', mcc_boosted)"
   ]
  },
  {
   "cell_type": "code",
   "execution_count": 7,
   "metadata": {
    "collapsed": false
   },
   "outputs": [
    {
     "data": {
      "image/png": "[encoded data removed]",
      "text/plain": [
       "<matplotlib.figure.Figure at 0x1fa52da34a8>"
      ]
     },
     "metadata": {},
     "output_type": "display_data"
    }
   ],
   "source": [
    "fig = plt.figure()\n",
    "\n",
    "n_threshs = nominal_metrics.iloc[[1, 38, 50, 99]][['threshold', 'recall', 'fpr']]\n",
    "b_threshs = boosted_metrics.iloc[[1, 50, 99]][['threshold', 'recall', 'fpr']]\n",
    "\n",
    "nom_met = nominal_metrics.sort_values(by = 'fpr')\n",
    "bos_met = boosted_metrics.sort_values(by = 'fpr')\n",
    "\n",
    "boosted_auc, nominal_auc = auc(boosted_metrics), auc(nominal_metrics)\n",
    "\n",
    "p1 = fig.add_subplot(1,2,1)\n",
    "p1.axis([-0.1,1.1,0,1.1])\n",
    "p1.set_xlabel('Nominal (AUC = ' + str(nominal_auc)[:7] +')')\n",
    "p1.plot(nom_met['fpr'], nom_met['recall'])\n",
    "p1.plot(n_threshs['fpr'], n_threshs['recall'], 'r.')\n",
    "for i, lbl in enumerate(n_threshs['threshold']):\n",
    "    p1.annotate(str(lbl)[:5], (n_threshs['fpr'].iloc[i], n_threshs['recall'].iloc[i]))\n",
    "\n",
    "p2 = fig.add_subplot(1,2,2)\n",
    "p2.axis([-0.1,1.1,0,1.1])\n",
    "p2.set_xlabel('Boosted (AUC = ' + str(boosted_auc)[:7] + ')')\n",
    "p2.plot(bos_met['fpr'], bos_met['recall'], 'r')\n",
    "p2.plot(b_threshs['fpr'], b_threshs['recall'], 'b.')\n",
    "for i, lbl in enumerate(b_threshs['threshold']):\n",
    "    p2.annotate(str(lbl)[:5], (b_threshs['fpr'].iloc[i], b_threshs['recall'].iloc[i]))\n",
    "\n",
    "fig.subplots_adjust(hspace = 0.0, wspace = 0.6)\n",
    "fig.suptitle('(Fig. 8) ROC Curves of Nominal and Boosted Models w/ Selected Classification Thresholds Labeled')\n",
    "plt.show()"
   ]
  },
  {
   "cell_type": "code",
   "execution_count": 8,
   "metadata": {
    "collapsed": false
   },
   "outputs": [
    {
     "data": {
      "image/png": "[encoded data removed]",
      "text/plain": [
       "<matplotlib.figure.Figure at 0x1fa52e65198>"
      ]
     },
     "metadata": {},
     "output_type": "display_data"
    }
   ],
   "source": [
    "fig = plt.figure()\n",
    "\n",
    "n_threshs = nominal_metrics.iloc[[1, 43, 99]][['threshold', 'precision', 'recall']]\n",
    "b_threshs = boosted_metrics.iloc[[1, 50, 99]][['threshold', 'precision', 'recall']]\n",
    "\n",
    "nom_met = nominal_metrics.sort_values(by = 'recall')\n",
    "bos_met = boosted_metrics.sort_values(by = 'recall')\n",
    "\n",
    "p1 = fig.add_subplot(1,2,1)\n",
    "p1.axis([-0.1,1.1,0,1.1])\n",
    "p1.set_xlabel('Nominal (Avg. Precision = ' + str(nom_met['precision'].mean())[:6] + ')')\n",
    "p1.plot(nom_met['recall'], nom_met['precision'])\n",
    "p1.plot(n_threshs['recall'], n_threshs['precision'], 'r.')\n",
    "for i, lbl in enumerate(n_threshs['threshold']):\n",
    "    p1.annotate(str(lbl)[:5], (n_threshs['recall'].iloc[i], n_threshs['precision'].iloc[i]))\n",
    "\n",
    "p2 = fig.add_subplot(1,2,2)\n",
    "p2.axis([-0.1,1.1,0,1.1])\n",
    "p2.set_xlabel('Boosted (Avg. Precision = ' + str(bos_met['precision'].mean())[:6] + ')')\n",
    "p2.plot(bos_met['recall'], bos_met['precision'], 'r')\n",
    "p2.plot(b_threshs['recall'], b_threshs['precision'], 'b.')\n",
    "for i, lbl in enumerate(b_threshs['threshold']):\n",
    "    p2.annotate(str(lbl)[:5], (b_threshs['recall'].iloc[i], b_threshs['precision'].iloc[i]))\n",
    "\n",
    "fig.subplots_adjust(hspace = 0.0, wspace = 0.6)\n",
    "fig.suptitle('(Fig. 9) Precision-Recall Curves of Nominal and Boosted Models w/ Selected Classification Thresholds Labeled')\n",
    "plt.show()"
   ]
  },
  {
   "cell_type": "markdown",
   "metadata": {},
   "source": [
    "Both models perform quite well on the test set with comparable anticipated and actual test errors respectively. The boosted model's test error is negligible compared to that of the nominal. \n",
    "\n",
    "At the baseline classification threshold (0.0) each model has a false positive rate of zero which translates to perfect precision respectively. This means the classifier does not mark edible mushrooms as poisonous regardless of boosting.\n",
    "Boosting increases recall however which makes the classifier much safer. This is because as recall improves, the rate of poisonous mushrooms marked as edible vanishes. The boosted model's recall is nearly perfect whereas the nominal model classifies 15% of poisonous mushrooms as edible. Consequently, boosting improves the classifier's false omission rate by over one order of magnitude. This means the boosted model incorrectly identifies edible mushrooms about 10 times less frequently than the boosted model. Lastly, boosting improves the classifier's Matthew's Correlation Coefficient. This metric is more robust to class-imbalance than the aforementioned confusion-matrix derivations so its improvement suggests that boosted models generalize better to class-imbalanced populations as well.\n",
    "\n",
    "In considering all classification thresholds (-1 to 1) both nominal and boosted models yield excellent ROC and Precision-Recall curves. None of the plots in figures 8 or 9 display any significant tradeoff between recall and false-positive-rate or precision and recall respectively as classification threshold varies. Boosting's main use here is in eliminating bias. That is, for nominal models the classification thresholds that yield optimal tradeoff (closest to (0,1) for ROC and closest to (1,1) for precision-recall) are offset from the baseline classification threshold. A threshold of -0.23 is closer to optimal than baseline for nominal ROC performance and a threshold of -0.13 is closer for nominal precision-recall performance. Boosting in both contexts moves the baseline threshold to (0,1) and (1,1) respectively, effectively eliminating threshold bias.\n",
    "\n",
    "To summarize, the nominal model performs decently on the test set but boosting improves the performance to the point of the classifier being (arguably) safe to use, robust to class imbalance and optimally performing with the standard classification threshold."
   ]
  },
  {
   "cell_type": "markdown",
   "metadata": {},
   "source": [
    "## Summary\n",
    "\n",
    "In this project I implement a random forest classifier on a dataset where each entry contains categorical information about a\n",
    "unique mushroom and a class label marking it as poisonous or edible. I train models using both standard sklearn libraries and AdaBoost on ensembles of deep, medium and shallow decision trees yielding a total of 6 models to analyze. The hyperparameters of the models are ensemble size, number of folds in cross-validation, training set bootstrap sample size, feature sample size and for boosted models number of boosting iterations. Once trained, I analyze the validation performance of these 6 models over the hyperparameter search space in order to choose models and hyperparameters to use on the test set. In training, the main improvement in boosting is in making validation error more robust to variations in hyperparameters.\n",
    "\n",
    "For the test set, I analyze the performance of nominal and boosted models trained on 100 medium depth decision trees where each decision tree takes a simple random sample of 14 (out of 22 total) features from a bootstrap sample of 3350 (out of 7312 total) training points. The boosted models used 75 iterations of AdaBoost in training. In analysis of the test set, we see that using AdaBoost increases recall (making the classifier much safer to use in practice), eliminates bias from the predictions and makes predictions more robust to class-imbalanced populations.\n",
    "\n"
   ]
  },
  {
   "cell_type": "code",
   "execution_count": null,
   "metadata": {
    "collapsed": true
   },
   "outputs": [],
   "source": []
  }
 ],
 "metadata": {
  "anaconda-cloud": {},
  "kernelspec": {
   "display_name": "Python [conda env:Anaconda3]",
   "language": "python",
   "name": "conda-env-Anaconda3-py"
  },
  "language_info": {
   "codemirror_mode": {
    "name": "ipython",
    "version": 3
   },
   "file_extension": ".py",
   "mimetype": "text/x-python",
   "name": "python",
   "nbconvert_exporter": "python",
   "pygments_lexer": "ipython3",
   "version": "3.5.2"
  }
 },
 "nbformat": 4,
 "nbformat_minor": 1
}
